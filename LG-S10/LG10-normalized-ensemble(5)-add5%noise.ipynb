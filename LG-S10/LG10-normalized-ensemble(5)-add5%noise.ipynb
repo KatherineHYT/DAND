{
 "cells": [
  {
   "cell_type": "code",
   "execution_count": 1,
   "metadata": {},
   "outputs": [
    {
     "name": "stderr",
     "output_type": "stream",
     "text": [
      "C:\\Users\\Katherine\\Anaconda3\\lib\\site-packages\\h5py\\__init__.py:36: FutureWarning: Conversion of the second argument of issubdtype from `float` to `np.floating` is deprecated. In future, it will be treated as `np.float64 == np.dtype(float).type`.\n",
      "  from ._conv import register_converters as _register_converters\n",
      "Using TensorFlow backend.\n",
      "C:\\Users\\Katherine\\Anaconda3\\lib\\site-packages\\tensorflow\\python\\framework\\dtypes.py:523: FutureWarning: Passing (type, 1) or '1type' as a synonym of type is deprecated; in a future version of numpy, it will be understood as (type, (1,)) / '(1,)type'.\n",
      "  _np_qint8 = np.dtype([(\"qint8\", np.int8, 1)])\n",
      "C:\\Users\\Katherine\\Anaconda3\\lib\\site-packages\\tensorflow\\python\\framework\\dtypes.py:524: FutureWarning: Passing (type, 1) or '1type' as a synonym of type is deprecated; in a future version of numpy, it will be understood as (type, (1,)) / '(1,)type'.\n",
      "  _np_quint8 = np.dtype([(\"quint8\", np.uint8, 1)])\n",
      "C:\\Users\\Katherine\\Anaconda3\\lib\\site-packages\\tensorflow\\python\\framework\\dtypes.py:525: FutureWarning: Passing (type, 1) or '1type' as a synonym of type is deprecated; in a future version of numpy, it will be understood as (type, (1,)) / '(1,)type'.\n",
      "  _np_qint16 = np.dtype([(\"qint16\", np.int16, 1)])\n",
      "C:\\Users\\Katherine\\Anaconda3\\lib\\site-packages\\tensorflow\\python\\framework\\dtypes.py:526: FutureWarning: Passing (type, 1) or '1type' as a synonym of type is deprecated; in a future version of numpy, it will be understood as (type, (1,)) / '(1,)type'.\n",
      "  _np_quint16 = np.dtype([(\"quint16\", np.uint16, 1)])\n",
      "C:\\Users\\Katherine\\Anaconda3\\lib\\site-packages\\tensorflow\\python\\framework\\dtypes.py:527: FutureWarning: Passing (type, 1) or '1type' as a synonym of type is deprecated; in a future version of numpy, it will be understood as (type, (1,)) / '(1,)type'.\n",
      "  _np_qint32 = np.dtype([(\"qint32\", np.int32, 1)])\n",
      "C:\\Users\\Katherine\\Anaconda3\\lib\\site-packages\\tensorflow\\python\\framework\\dtypes.py:532: FutureWarning: Passing (type, 1) or '1type' as a synonym of type is deprecated; in a future version of numpy, it will be understood as (type, (1,)) / '(1,)type'.\n",
      "  np_resource = np.dtype([(\"resource\", np.ubyte, 1)])\n",
      "\n",
      "Bad key \"nbagg.transparent\" on line 426 in\n",
      "C:\\Users\\Katherine\\Anaconda3\\lib\\site-packages\\matplotlib\\mpl-data\\stylelib\\_classic_test.mplstyle.\n",
      "You probably need to get an updated matplotlibrc file from\n",
      "https://github.com/matplotlib/matplotlib/blob/v3.2.1/matplotlibrc.template\n",
      "or from the matplotlib source distribution\n",
      "\n",
      "Bad key \"animation.mencoder_path\" on line 509 in\n",
      "C:\\Users\\Katherine\\Anaconda3\\lib\\site-packages\\matplotlib\\mpl-data\\stylelib\\_classic_test.mplstyle.\n",
      "You probably need to get an updated matplotlibrc file from\n",
      "https://github.com/matplotlib/matplotlib/blob/v3.2.1/matplotlibrc.template\n",
      "or from the matplotlib source distribution\n",
      "\n",
      "Bad key \"animation.mencoder_args\" on line 512 in\n",
      "C:\\Users\\Katherine\\Anaconda3\\lib\\site-packages\\matplotlib\\mpl-data\\stylelib\\_classic_test.mplstyle.\n",
      "You probably need to get an updated matplotlibrc file from\n",
      "https://github.com/matplotlib/matplotlib/blob/v3.2.1/matplotlibrc.template\n",
      "or from the matplotlib source distribution\n",
      "In C:\\Users\\Katherine\\Anaconda3\\lib\\site-packages\\matplotlib\\mpl-data\\stylelib\\_classic_test.mplstyle: \n",
      "The text.latex.unicode rcparam was deprecated in Matplotlib 3.0 and will be removed in 3.2.\n",
      "In C:\\Users\\Katherine\\Anaconda3\\lib\\site-packages\\matplotlib\\mpl-data\\stylelib\\_classic_test.mplstyle: \n",
      "The savefig.frameon rcparam was deprecated in Matplotlib 3.1 and will be removed in 3.3.\n",
      "In C:\\Users\\Katherine\\Anaconda3\\lib\\site-packages\\matplotlib\\mpl-data\\stylelib\\_classic_test.mplstyle: \n",
      "The pgf.debug rcparam was deprecated in Matplotlib 3.0 and will be removed in 3.2.\n",
      "In C:\\Users\\Katherine\\Anaconda3\\lib\\site-packages\\matplotlib\\mpl-data\\stylelib\\_classic_test.mplstyle: \n",
      "The verbose.level rcparam was deprecated in Matplotlib 3.1 and will be removed in 3.3.\n",
      "In C:\\Users\\Katherine\\Anaconda3\\lib\\site-packages\\matplotlib\\mpl-data\\stylelib\\_classic_test.mplstyle: \n",
      "The verbose.fileo rcparam was deprecated in Matplotlib 3.1 and will be removed in 3.3.\n"
     ]
    }
   ],
   "source": [
    "from datetime import datetime, timedelta\n",
    "import numpy as np # linear algebra\n",
    "import pandas as pd # data processing, CSV file I/O (e.g. pd.read_csv)\n",
    "from sklearn.metrics import accuracy_score\n",
    "from sklearn.preprocessing import MinMaxScaler\n",
    "from keras.models import Sequential\n",
    "from keras.layers import LSTM\n",
    "from keras.layers import Dense\n",
    "import matplotlib.pyplot as plt\n",
    "from numpy import hstack\n",
    "from numpy import mean\n",
    "from numpy import std\n",
    "from numpy import array\n",
    "from numpy import argmax, argmin\n",
    "from numpy import tensordot\n",
    "from numpy.linalg import norm\n",
    "import seaborn as sns\n",
    "from scipy.optimize import differential_evolution\n",
    "from sklearn.metrics import mean_absolute_error\n",
    "import gc\n",
    "from sklearn.metrics import roc_curve,auc"
   ]
  },
  {
   "cell_type": "code",
   "execution_count": 2,
   "metadata": {},
   "outputs": [],
   "source": [
    "import glob\n",
    "import os\n",
    "folder_name = 'luce_stations_10'\n",
    "file_type = 'txt'\n",
    "seperator =' '\n",
    "\n",
    "dataframe = pd.concat([pd.read_csv(f, sep=seperator, header=None) for f in glob.glob(folder_name + \"/*.\"+file_type)],ignore_index=True)\n",
    "dataframe.columns=['stationID','year','month','day','hour','min','sec','epoch','seq#','AmbientTemp','SurfaceTemp','Radiaiton','RH','Moisture','watermark','rain','windSpeed','WindDirection']"
   ]
  },
  {
   "cell_type": "code",
   "execution_count": null,
   "metadata": {},
   "outputs": [],
   "source": [
    "df.describe()"
   ]
  },
  {
   "cell_type": "code",
   "execution_count": 3,
   "metadata": {},
   "outputs": [
    {
     "data": {
      "text/html": [
       "<div>\n",
       "<style scoped>\n",
       "    .dataframe tbody tr th:only-of-type {\n",
       "        vertical-align: middle;\n",
       "    }\n",
       "\n",
       "    .dataframe tbody tr th {\n",
       "        vertical-align: top;\n",
       "    }\n",
       "\n",
       "    .dataframe thead th {\n",
       "        text-align: right;\n",
       "    }\n",
       "</style>\n",
       "<table border=\"1\" class=\"dataframe\">\n",
       "  <thead>\n",
       "    <tr style=\"text-align: right;\">\n",
       "      <th></th>\n",
       "      <th>AmbientTemp</th>\n",
       "      <th>SurfaceTemp</th>\n",
       "      <th>Radiaiton</th>\n",
       "      <th>RH</th>\n",
       "      <th>windSpeed</th>\n",
       "      <th>WindDirection</th>\n",
       "    </tr>\n",
       "  </thead>\n",
       "  <tbody>\n",
       "    <tr>\n",
       "      <th>0</th>\n",
       "      <td>1.92</td>\n",
       "      <td>0.787</td>\n",
       "      <td>76.036</td>\n",
       "      <td>71.244</td>\n",
       "      <td>3.252</td>\n",
       "      <td>51.728</td>\n",
       "    </tr>\n",
       "    <tr>\n",
       "      <th>1</th>\n",
       "      <td>1.94</td>\n",
       "      <td>0.975</td>\n",
       "      <td>73.909</td>\n",
       "      <td>71.375</td>\n",
       "      <td>2.413</td>\n",
       "      <td>15.305</td>\n",
       "    </tr>\n",
       "    <tr>\n",
       "      <th>2</th>\n",
       "      <td>1.94</td>\n",
       "      <td>0.725</td>\n",
       "      <td>77.631</td>\n",
       "      <td>71.401</td>\n",
       "      <td>2.112</td>\n",
       "      <td>9.784</td>\n",
       "    </tr>\n",
       "    <tr>\n",
       "      <th>3</th>\n",
       "      <td>1.90</td>\n",
       "      <td>0.662</td>\n",
       "      <td>74.441</td>\n",
       "      <td>71.418</td>\n",
       "      <td>2.816</td>\n",
       "      <td>354.059</td>\n",
       "    </tr>\n",
       "    <tr>\n",
       "      <th>4</th>\n",
       "      <td>1.94</td>\n",
       "      <td>0.787</td>\n",
       "      <td>73.377</td>\n",
       "      <td>71.477</td>\n",
       "      <td>1.944</td>\n",
       "      <td>88.830</td>\n",
       "    </tr>\n",
       "  </tbody>\n",
       "</table>\n",
       "</div>"
      ],
      "text/plain": [
       "   AmbientTemp  SurfaceTemp  Radiaiton      RH  windSpeed  WindDirection\n",
       "0         1.92        0.787     76.036  71.244      3.252         51.728\n",
       "1         1.94        0.975     73.909  71.375      2.413         15.305\n",
       "2         1.94        0.725     77.631  71.401      2.112          9.784\n",
       "3         1.90        0.662     74.441  71.418      2.816        354.059\n",
       "4         1.94        0.787     73.377  71.477      1.944         88.830"
      ]
     },
     "execution_count": 3,
     "metadata": {},
     "output_type": "execute_result"
    }
   ],
   "source": [
    "df=dataframe.dropna(axis=1, thresh=243500).iloc[:,9:]\n",
    "\n",
    "df = df.dropna()\n",
    "df = df.reset_index(drop=True)\n",
    "df.head()"
   ]
  },
  {
   "cell_type": "code",
   "execution_count": 4,
   "metadata": {},
   "outputs": [
    {
     "data": {
      "text/plain": [
       "0"
      ]
     },
     "execution_count": 4,
     "metadata": {},
     "output_type": "execute_result"
    }
   ],
   "source": [
    "del dataframe\n",
    "gc.collect()"
   ]
  },
  {
   "cell_type": "code",
   "execution_count": 78,
   "metadata": {},
   "outputs": [
    {
     "name": "stdout",
     "output_type": "stream",
     "text": [
      "199780\n"
     ]
    }
   ],
   "source": [
    "from random import randint\n",
    "start=randint(0, len(df)-6000)\n",
    "print(start)\n",
    "dataset = df.iloc[start:start+6000,]"
   ]
  },
  {
   "cell_type": "markdown",
   "metadata": {},
   "source": [
    "# normalize and add 5% noise"
   ]
  },
  {
   "cell_type": "code",
   "execution_count": 79,
   "metadata": {},
   "outputs": [],
   "source": [
    "# normailize data\n",
    "scaler = MinMaxScaler()\n",
    "train_scaled = scaler.fit_transform(dataset.iloc[:3600,].values)\n",
    "test_scaled = scaler.transform(dataset.iloc[3600:,].values)"
   ]
  },
  {
   "cell_type": "code",
   "execution_count": 80,
   "metadata": {},
   "outputs": [
    {
     "name": "stdout",
     "output_type": "stream",
     "text": [
      "[ 948 3196 3523 2690 1371  912 3185 2829 1543 1376 3166 2223 1784 1480\n",
      " 2243 1667  930 1968 2047 3343  765 2401 3309 2309  175 1661  802 2510\n",
      "  677 1608 2314 1434  485 2730 3498  241 2565 1528 3154 1106 2123 1360\n",
      " 2749 1172 2445   89  752 3289 3544 1447   99 2593 1933 3149 3454 3360\n",
      " 1127 1092  627  664  846  199 3330 2324 2032  686 2602  226 3407  252\n",
      "  825  509 1265 3243  848 3494 1886  268 3102 3127 2078  699 2865 2523\n",
      " 2942 3575 3378 2391  632 1956 2266  681  355 1833  618 2499 1153 1011\n",
      " 2177 3285 1285   58 2548 3135 3204 2632  758  940 2125 1805  954 2334\n",
      " 2091 2393 3141 2097 3328  541 1398  741  539 1178  909  719  259   46\n",
      " 2961 3144 1556 2624  549 1168 1313 1319  552 1631  337 2012 2076 3409\n",
      " 2345 2691 3156  103 1050 2677  443  145 2301    6  823  420 1840 1427\n",
      " 2803 1382 3486 3421  161 1997 3532 1567 1479 2421 1864 1561 1555 1869\n",
      " 2784 2734  992  945  164 2987 1222 3061 2763  838 3017 1378]\n"
     ]
    }
   ],
   "source": [
    "# add 5% noises as anomalies into train and test data in order to evaluate the method\n",
    "import math\n",
    "    \n",
    "qty=math.floor(len(train_scaled)*0.05)\n",
    "train_anomalies=np.random.choice(train_scaled.shape[0],size = qty,replace=False)\n",
    "print(train_anomalies)\n",
    "temp_data=train_scaled[train_anomalies,:]+np.random.normal(0,1,size=train_scaled.shape[1])\n",
    "i=0\n",
    "for row in train_anomalies:\n",
    "    train_scaled[row,:]=temp_data[i,:]\n",
    "    i+=1"
   ]
  },
  {
   "cell_type": "code",
   "execution_count": 81,
   "metadata": {},
   "outputs": [
    {
     "name": "stdout",
     "output_type": "stream",
     "text": [
      "[1468 1584 1559 1853 1980 2305 2053 1409  474 2365 1836 1573  594  441\n",
      "  249 1675 2147 1883 1336  577 1552  556  641 1311 1510 1355 1286 1206\n",
      " 1459  830 1341  143   33  381 1162 1002  240  259 1808 1012 1120 1805\n",
      "  629 1761  161 1995 1834 1125  874  675 1682 1016  121  661   30 1361\n",
      " 1879  100 2024  471 1179  682  339  361 1732  317 1297 1316  123 1262\n",
      " 1005 2342  413 1869 2256 1783 1181  119  753  809 1506   70   75   91\n",
      "  955  770 2069  645  420 1564  569 1270  158  705 1013   18  463 1454\n",
      " 1010  220 1060  252 1493  865 1574  159  647 1037  292  833   40  617\n",
      " 1119  648 1030  637  137 2108 2172 1211]\n"
     ]
    }
   ],
   "source": [
    "qty=math.floor(len(test_scaled)*0.05)\n",
    "test_anomalies=np.random.choice(test_scaled.shape[0],size = qty,replace=False)\n",
    "print(test_anomalies)\n",
    "temp_data=test_scaled[test_anomalies,:]+np.random.normal(0,1,size=test_scaled.shape[1])\n",
    "i=0\n",
    "for row in test_anomalies:\n",
    "    test_scaled[row,:]=temp_data[i,:]\n",
    "    i+=1"
   ]
  },
  {
   "cell_type": "code",
   "execution_count": 10,
   "metadata": {},
   "outputs": [],
   "source": [
    "# multivariate output data prep\n",
    "\n",
    "# split a multivariate sequence into samples\n",
    "def split_sequences(sequences, n_steps):\n",
    "    X, y = list(), list()\n",
    "    for i in range(len(sequences)):\n",
    "        # find the end of this pattern\n",
    "        end_ix = i + n_steps\n",
    "        # check if we are beyond the dataset\n",
    "        if end_ix > len(sequences)-1:\n",
    "            break\n",
    "        # gather input and output parts of the pattern\n",
    "        seq_x, seq_y = sequences[i:end_ix, :], sequences[end_ix, :]\n",
    "        X.append(seq_x)\n",
    "        y.append(seq_y)\n",
    "    return array(X), array(y)\n",
    "\n",
    "# fit Vanilla model on dataset\n",
    "def fit_model(trainX, trainy,n_features):\n",
    "    # define model\n",
    "    model = Sequential()\n",
    "    model.add(LSTM(100, activation='relu', input_shape=(n_steps, n_features)))\n",
    "    model.add(Dense(n_features))\n",
    "    model.compile(optimizer='adam', loss='mse',metrics=['mae'])\n",
    "    # fit model\n",
    "    model.fit(trainX, trainy, epochs=500, verbose=0)\n",
    "    return model\n",
    "\n",
    "# make an ensemble prediction for multi-class classification\n",
    "def ensemble_predictions(members, weights, testX, testy):\n",
    "    # make predictions\n",
    "    yhats = [model.predict(testX) for model in members]\n",
    "    yhats = array(yhats)\n",
    "    a_testy=array(testy)\n",
    "    # weighted sum across ensemble members\n",
    "    #summed = tensordot(abs(yhats-a_testy), weights, axes=((0),(0)))\n",
    "    # argmax across classes\n",
    "    #result = argmax(summed, axis=1)\n",
    "    result = tensordot(yhats, weights, axes=((0),(0)))\n",
    "    return result\n",
    "\n",
    "# # evaluate a specific number of members in an ensemble\n",
    "def evaluate_ensemble(members, weights, testX, testy):\n",
    "    # make prediction\n",
    "    yhat = ensemble_predictions(members, weights, testX, testy)\n",
    "    # calculate MAE\n",
    "    return mean_absolute_error(testy, yhat), yhat"
   ]
  },
  {
   "cell_type": "code",
   "execution_count": 82,
   "metadata": {},
   "outputs": [
    {
     "name": "stdout",
     "output_type": "stream",
     "text": [
      "(3595, 5, 6) (3595, 6)\n",
      "[-2.12169634  0.95105667  2.3946743  -0.36657561  0.28914424  1.3298224 ]\n"
     ]
    }
   ],
   "source": [
    "n_steps = 5\n",
    "# convert into input/output\n",
    "X_train, y_train = split_sequences(train_scaled, n_steps)\n",
    "print(X_train.shape, y_train.shape)\n",
    "print(y_train[1])"
   ]
  },
  {
   "cell_type": "code",
   "execution_count": 83,
   "metadata": {},
   "outputs": [
    {
     "name": "stdout",
     "output_type": "stream",
     "text": [
      "(2395, 5, 6) (2395, 6)\n",
      "[6.55737705e-02 3.25217391e-02 9.00950509e-03 6.88628624e-01\n",
      " 4.15865049e-01 5.43175448e-04]\n"
     ]
    }
   ],
   "source": [
    "n_steps = 5\n",
    "# convert into input/output\n",
    "X_test, y_test = split_sequences(test_scaled, n_steps)\n",
    "print(X_test.shape, y_test.shape)\n",
    "print(y_test[1])"
   ]
  },
  {
   "cell_type": "code",
   "execution_count": 84,
   "metadata": {},
   "outputs": [
    {
     "name": "stdout",
     "output_type": "stream",
     "text": [
      "Model 1: 0.540\n",
      "Model 2: 0.787\n",
      "Model 3: 0.649\n",
      "Model 4: 0.535\n",
      "Model 5: 0.371\n",
      "Equal Weights Score: 0.384\n"
     ]
    }
   ],
   "source": [
    "n_features = X_train.shape[2]\n",
    "n_members = 5\n",
    "members = [fit_model(X_train, y_train,n_features) for _ in range(n_members)]\n",
    "# evaluate each single model on the test set\n",
    "\n",
    "for i in range(n_members):\n",
    "    _, test_acc = members[i].evaluate(X_test, y_test, verbose=0)\n",
    "    print('Model %d: %.3f' % (i+1, test_acc))\n",
    "# evaluate averaging ensemble (equal weights)\n",
    "weights = [1.0/n_members for _ in range(n_members)]\n",
    "score, prediction = evaluate_ensemble(members, weights, X_test, y_test)\n",
    "print('Equal Weights Score: %.3f' % score)"
   ]
  },
  {
   "cell_type": "code",
   "execution_count": 14,
   "metadata": {},
   "outputs": [],
   "source": [
    "# normalize a vector to have unit norm\n",
    "def normalize(weights):\n",
    "    # calculate l1 vector norm\n",
    "    result = norm(weights, 1)\n",
    "    # check for a vector of all zeros\n",
    "    if result == 0.0:\n",
    "        return weights\n",
    "    # return normalized vector (unit norm)\n",
    "    return weights / result\n",
    "\n",
    "# loss function for optimization process, designed to be minimized\n",
    "def loss_function(weights, members, testX, testy):\n",
    "    # normalize weights\n",
    "    normalized = normalize(weights)\n",
    "    # calculate error rate\n",
    "    return evaluate_ensemble(members, normalized, testX, testy)[0]"
   ]
  },
  {
   "cell_type": "code",
   "execution_count": 85,
   "metadata": {},
   "outputs": [
    {
     "name": "stdout",
     "output_type": "stream",
     "text": [
      "Optimized Weights: [0.18411289 0.02035553 0.08259149 0.14054907 0.57239102]\n",
      "Optimized Weights Score: 0.327\n"
     ]
    }
   ],
   "source": [
    "# define bounds on each weight\n",
    "bound_w = [(0.0, 1.0)  for _ in range(n_members)]\n",
    "# arguments to the loss function\n",
    "search_arg = (members, X_test, y_test)\n",
    "# global optimization of ensemble weights\n",
    "result = differential_evolution(loss_function, bound_w, search_arg, maxiter=8000, tol=1e-7)\n",
    "# get the chosen weights\n",
    "weights = normalize(result['x'])\n",
    "print('Optimized Weights: %s' % weights)\n",
    "# evaluate chosen weights\n",
    "score, prediction = evaluate_ensemble(members, weights, X_test, y_test)\n",
    "print('Optimized Weights Score: %.3f' % score)"
   ]
  },
  {
   "cell_type": "code",
   "execution_count": 86,
   "metadata": {},
   "outputs": [
    {
     "data": {
      "image/png": "[encoded data removed]",
      "text/plain": [
       "<Figure size 576x288 with 1 Axes>"
      ]
     },
     "metadata": {},
     "output_type": "display_data"
    }
   ],
   "source": [
    "aa=[x for x in range(100)]\n",
    "plt.figure(figsize=(8,4))\n",
    "plt.plot(aa, y_test[-100:,0], marker='.', label=\"actual\")\n",
    "plt.plot(aa, prediction[-100:,0], marker='^', label=\"prediction\")\n",
    "# plt.tick_params(left=False, labelleft=True) #remove ticks\n",
    "plt.tight_layout()\n",
    "sns.despine(top=True)\n",
    "plt.subplots_adjust(left=0.07)\n",
    "plt.ylabel('AmbientTemp', size=15)\n",
    "plt.xlabel('Time step', size=15)\n",
    "plt.legend(fontsize=15)\n",
    "plt.show();"
   ]
  },
  {
   "cell_type": "markdown",
   "metadata": {},
   "source": [
    "# Calculate Euclidean distance"
   ]
  },
  {
   "cell_type": "code",
   "execution_count": 87,
   "metadata": {},
   "outputs": [
    {
     "name": "stdout",
     "output_type": "stream",
     "text": [
      "2395\n"
     ]
    }
   ],
   "source": [
    "temp = [] #temporary list\n",
    "for j in range(len(y_test)):\n",
    "    dis = sum([pow(y_test[j][i] - prediction[j][i], 2) for i in range(n_features)])\n",
    "    temp.append(round(pow(dis, 0.5),4))\n",
    "print(len(temp))"
   ]
  },
  {
   "cell_type": "code",
   "execution_count": 88,
   "metadata": {},
   "outputs": [],
   "source": [
    "array_dis=np.array(temp)\n",
    "thold= np.percentile(array_dis,95)\n",
    "outcome=[]\n",
    "for a in array_dis:\n",
    "    if a <= thold:\n",
    "        outcome.append(1.0) #1 is normal\n",
    "    else:\n",
    "        outcome.append(0.0) #0 is abnormals\n",
    "#outcome "
   ]
  },
  {
   "cell_type": "code",
   "execution_count": 89,
   "metadata": {},
   "outputs": [],
   "source": [
    "b = np.ones((len(test_scaled),1))\n",
    "rows=test_anomalies\n",
    "b[rows] = 0\n",
    "test_scaled_anomolies=np.hstack((test_scaled,b))"
   ]
  },
  {
   "cell_type": "code",
   "execution_count": 90,
   "metadata": {},
   "outputs": [],
   "source": [
    "scaled_test_df = pd.DataFrame({'act_AmbientTemp': y_test[:, 0], 'act_SurfaceTemp': y_test[:, 1],'act_Radiaiton': y_test[:, 2], \n",
    "                               'act_RH': y_test[:, 3],'act_windSpeed': y_test[:, 4], 'act_WindDirection': y_test[:, 5],\n",
    "                               'prd_AmbientTemp': prediction[:, 0], 'prd_SurfaceTemp': prediction[:, 1],'prd_Radiaiton': prediction[:, 2],\n",
    "                               'prd_RH': prediction[:, 3],'prd_windSpeed': prediction[:, 4], 'prd_WindDirection': prediction[:, 5],\n",
    "                               'Euclidean distance': array_dis,'act_class':test_scaled_anomolies[5:,-1], 'prd_class':outcome})\n",
    "#scaled_test_df\n",
    "scaled_test_df.to_excel(\"scaled_test_df-ensemble(5)-(r5).xlsx\")"
   ]
  },
  {
   "cell_type": "code",
   "execution_count": 91,
   "metadata": {},
   "outputs": [
    {
     "data": {
      "image/png": "[encoded data removed]",
      "text/plain": [
       "<Figure size 432x288 with 1 Axes>"
      ]
     },
     "metadata": {},
     "output_type": "display_data"
    }
   ],
   "source": [
    "fpr, tpr, thresholds = roc_curve(scaled_test_df['act_class'], scaled_test_df['Euclidean distance'],pos_label=0)\n",
    "roc_auc = auc(fpr, tpr)\n",
    "\n",
    "plt.figure()\n",
    "lw = 2\n",
    "plt.plot(fpr, tpr, color='darkorange',lw=lw, label='ROC curve_ensembleLSTM5 (area = %0.3f)' % roc_auc)\n",
    "#plt.plot(fpr1, tpr1, color='green',lw=lw, label='ROC curve_LSTM7 (area = %0.3f)' % roc_auc1)\n",
    "plt.plot([0, 1], [0, 1], color='navy', lw=lw, linestyle='--')\n",
    "plt.xlim([0.0, 1.0])\n",
    "plt.ylim([0.0, 1.05])\n",
    "plt.xlabel('False Positive Rate')\n",
    "plt.ylabel('True Positive Rate')\n",
    "plt.title('Receiver operating characteristic example')\n",
    "plt.legend(loc=\"lower right\")\n",
    "plt.show()"
   ]
  },
  {
   "cell_type": "code",
   "execution_count": null,
   "metadata": {},
   "outputs": [],
   "source": [
    "y_back=scaler.inverse_transform(y_test)"
   ]
  }
 ],
 "metadata": {
  "kernelspec": {
   "display_name": "Python 3",
   "language": "python",
   "name": "python3"
  },
  "language_info": {
   "codemirror_mode": {
    "name": "ipython",
    "version": 3
   },
   "file_extension": ".py",
   "mimetype": "text/x-python",
   "name": "python",
   "nbconvert_exporter": "python",
   "pygments_lexer": "ipython3",
   "version": "3.6.5"
  }
 },
 "nbformat": 4,
 "nbformat_minor": 2
}
